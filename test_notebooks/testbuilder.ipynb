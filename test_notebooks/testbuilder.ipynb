{
 "cells": [
  {
   "cell_type": "code",
   "execution_count": 8,
   "metadata": {},
   "outputs": [],
   "source": [
    "import pandas as pd\n",
    "import numpy as np"
   ]
  },
  {
   "cell_type": "code",
   "execution_count": 6,
   "metadata": {},
   "outputs": [
    {
     "data": {
      "text/html": [
       "<div>\n",
       "<style scoped>\n",
       "    .dataframe tbody tr th:only-of-type {\n",
       "        vertical-align: middle;\n",
       "    }\n",
       "\n",
       "    .dataframe tbody tr th {\n",
       "        vertical-align: top;\n",
       "    }\n",
       "\n",
       "    .dataframe thead th {\n",
       "        text-align: right;\n",
       "    }\n",
       "</style>\n",
       "<table border=\"1\" class=\"dataframe\">\n",
       "  <thead>\n",
       "    <tr style=\"text-align: right;\">\n",
       "      <th></th>\n",
       "      <th>Unnamed: 0</th>\n",
       "      <th>frame_path</th>\n",
       "      <th>moondream</th>\n",
       "      <th>llava-llama3</th>\n",
       "    </tr>\n",
       "  </thead>\n",
       "  <tbody>\n",
       "    <tr>\n",
       "      <th>0</th>\n",
       "      <td>0</td>\n",
       "      <td>UrbanCreativision/video_folder\\instance_0_\\fra...</td>\n",
       "      <td>\\nThe scene features a bus stop with three ben...</td>\n",
       "      <td>The image captures a serene scene on a street ...</td>\n",
       "    </tr>\n",
       "    <tr>\n",
       "      <th>1</th>\n",
       "      <td>1</td>\n",
       "      <td>UrbanCreativision/video_folder\\instance_0_\\fra...</td>\n",
       "      <td>\\nThe scene features a yellow and black car dr...</td>\n",
       "      <td>The image captures a vibrant scene on a bustli...</td>\n",
       "    </tr>\n",
       "    <tr>\n",
       "      <th>2</th>\n",
       "      <td>2</td>\n",
       "      <td>UrbanCreativision/video_folder\\instance_0_\\fra...</td>\n",
       "      <td>\\nThe scene features a bus stop with two buses...</td>\n",
       "      <td>The image captures a serene scene at dusk. Dom...</td>\n",
       "    </tr>\n",
       "    <tr>\n",
       "      <th>3</th>\n",
       "      <td>3</td>\n",
       "      <td>UrbanCreativision/video_folder\\instance_0_\\fra...</td>\n",
       "      <td>\\nThe scene features a bus stop with several p...</td>\n",
       "      <td>The image captures a tranquil scene on a city ...</td>\n",
       "    </tr>\n",
       "    <tr>\n",
       "      <th>4</th>\n",
       "      <td>4</td>\n",
       "      <td>UrbanCreativision/video_folder\\instance_0_\\fra...</td>\n",
       "      <td>\\nThe scene features a bus stop with several b...</td>\n",
       "      <td>The image captures a vibrant street scene. Dom...</td>\n",
       "    </tr>\n",
       "  </tbody>\n",
       "</table>\n",
       "</div>"
      ],
      "text/plain": [
       "   Unnamed: 0                                         frame_path  \\\n",
       "0           0  UrbanCreativision/video_folder\\instance_0_\\fra...   \n",
       "1           1  UrbanCreativision/video_folder\\instance_0_\\fra...   \n",
       "2           2  UrbanCreativision/video_folder\\instance_0_\\fra...   \n",
       "3           3  UrbanCreativision/video_folder\\instance_0_\\fra...   \n",
       "4           4  UrbanCreativision/video_folder\\instance_0_\\fra...   \n",
       "\n",
       "                                           moondream  \\\n",
       "0  \\nThe scene features a bus stop with three ben...   \n",
       "1  \\nThe scene features a yellow and black car dr...   \n",
       "2  \\nThe scene features a bus stop with two buses...   \n",
       "3  \\nThe scene features a bus stop with several p...   \n",
       "4  \\nThe scene features a bus stop with several b...   \n",
       "\n",
       "                                        llava-llama3  \n",
       "0  The image captures a serene scene on a street ...  \n",
       "1  The image captures a vibrant scene on a bustli...  \n",
       "2  The image captures a serene scene at dusk. Dom...  \n",
       "3  The image captures a tranquil scene on a city ...  \n",
       "4  The image captures a vibrant street scene. Dom...  "
      ]
     },
     "execution_count": 6,
     "metadata": {},
     "output_type": "execute_result"
    }
   ],
   "source": [
    "df = pd.read_csv('C:/Documents/Projects_IC/creativision_nyu/UrbanCreativision/video_folder/instance_0_/instance_data.csv')\n",
    "df.head()"
   ]
  },
  {
   "cell_type": "code",
   "execution_count": 12,
   "metadata": {},
   "outputs": [
    {
     "name": "stdout",
     "output_type": "stream",
     "text": [
      "length 5\n",
      "[0] test: [[-0.0317531  -0.02199691  0.02541651 ...  0.02937894  0.02444509\n",
      "  -0.01554112]] \n",
      " of length: 1024\n",
      "[1] test: [[-0.0317531  -0.02199691  0.02541651 ...  0.02937894  0.02444509\n",
      "  -0.01554112]] \n",
      " of length: 1024\n",
      "[2] test: [[-0.0317531  -0.02199691  0.02541651 ...  0.02937894  0.02444509\n",
      "  -0.01554112]] \n",
      " of length: 1024\n",
      "[array([[-0.0317531 , -0.02199691,  0.02541651, ...,  0.02937894,\n",
      "          0.02444509, -0.01554112]])\n",
      " array([[-0.03009281,  0.01448206,  0.00948387, ...,  0.01632137,\n",
      "          0.00996914, -0.00114731]])\n",
      " array([[-0.03366906, -0.00272325,  0.03606004, ...,  0.02676331,\n",
      "          0.01237146, -0.02548826]])\n",
      " array([[-0.02763887,  0.00159152,  0.02461776, ...,  0.00527816,\n",
      "          0.0104032 , -0.01711758]])\n",
      " array([[-0.00922564, -0.01612805,  0.0271265 , ...,  0.02891844,\n",
      "          0.00733939, -0.00534367]])                             ]\n"
     ]
    }
   ],
   "source": [
    "evec = np.load(\n",
    "'C:/Documents/Projects_IC/creativision_nyu/UrbanCreativision/video_folder/instance_0_/desc_evecs/moondream/mxbai-embed-large.npy',\n",
    "allow_pickle=True)\n",
    "print(f'length {len(evec)}')\n",
    "print(f'[0] test: {evec[0]} \\n of length: {len(evec[0][0])}')\n",
    "print(f'[1] test: {evec[0]} \\n of length: {len(evec[1][0])}')\n",
    "print(f'[2] test: {evec[0]} \\n of length: {len(evec[2][0])}')\n",
    "print(evec)\n"
   ]
  }
 ],
 "metadata": {
  "kernelspec": {
   "display_name": "ICenv",
   "language": "python",
   "name": "python3"
  },
  "language_info": {
   "codemirror_mode": {
    "name": "ipython",
    "version": 3
   },
   "file_extension": ".py",
   "mimetype": "text/x-python",
   "name": "python",
   "nbconvert_exporter": "python",
   "pygments_lexer": "ipython3",
   "version": "3.12.8"
  }
 },
 "nbformat": 4,
 "nbformat_minor": 2
}
