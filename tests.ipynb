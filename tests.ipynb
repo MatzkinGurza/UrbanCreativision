{
 "cells": [
  {
   "cell_type": "markdown",
   "metadata": {},
   "source": [
    "# Jupyter Notebook dedicated to testing functionalities"
   ]
  },
  {
   "cell_type": "markdown",
   "metadata": {},
   "source": [
    "<strong>test: videosup.py - video_explore <strong>"
   ]
  },
  {
   "cell_type": "code",
   "execution_count": 3,
   "metadata": {},
   "outputs": [
    {
     "name": "stdout",
     "output_type": "stream",
     "text": [
      "waitkey delay: 16\n",
      "Window closed by the user.\n",
      "Video Explore Execution was Successful\n",
      "Video Explore Execution Ended\n"
     ]
    }
   ],
   "source": [
    "from videosup import video_explore\n",
    "\n",
    "video_explore(vidpath=\"Videos/video1.mp4\", set_fps=True, vid_fps=60)"
   ]
  }
 ],
 "metadata": {
  "kernelspec": {
   "display_name": "envIC_kernel",
   "language": "python",
   "name": "envic_kernel"
  },
  "language_info": {
   "codemirror_mode": {
    "name": "ipython",
    "version": 3
   },
   "file_extension": ".py",
   "mimetype": "text/x-python",
   "name": "python",
   "nbconvert_exporter": "python",
   "pygments_lexer": "ipython3",
   "version": "3.12.1"
  }
 },
 "nbformat": 4,
 "nbformat_minor": 2
}
